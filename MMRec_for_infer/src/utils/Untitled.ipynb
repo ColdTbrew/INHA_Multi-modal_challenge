{
 "cells": [
  {
   "cell_type": "code",
   "execution_count": 1,
   "id": "82e12e32-262f-47a1-bfe4-6958f368a05c",
   "metadata": {},
   "outputs": [],
   "source": [
    "from topk_evaluator import TopKEvaluator\n",
    "from configurator import Config"
   ]
  },
  {
   "cell_type": "code",
   "execution_count": 2,
   "id": "70627e79-428e-4789-a86d-f47c6f15ee36",
   "metadata": {},
   "outputs": [
    {
     "name": "stdout",
     "output_type": "stream",
     "text": [
      "/home/jovyan/work/SJ/MMRec/src\n"
     ]
    }
   ],
   "source": [
    "config_dict = {\n",
    "    'gpu_id': 2,\n",
    "}\n",
    "config = Config('SELFCFED_LGN', 'DACON', config_dict)"
   ]
  },
  {
   "cell_type": "code",
   "execution_count": 4,
   "id": "510f8b68-e360-48d0-b04d-2935c60585b7",
   "metadata": {},
   "outputs": [],
   "source": [
    "tk = TopKEvaluator(config)"
   ]
  },
  {
   "cell_type": "code",
   "execution_count": 9,
   "id": "e334be00-5238-41e4-bf55-d5c7fc773c0b",
   "metadata": {},
   "outputs": [
    {
     "data": {
      "text/plain": [
       "[50]"
      ]
     },
     "execution_count": 9,
     "metadata": {},
     "output_type": "execute_result"
    }
   ],
   "source": []
  },
  {
   "cell_type": "code",
   "execution_count": null,
   "id": "0f33fbca-6cb2-4021-87e0-fa157b6abad7",
   "metadata": {},
   "outputs": [],
   "source": []
  }
 ],
 "metadata": {
  "kernelspec": {
   "display_name": "Python 3 (ipykernel)",
   "language": "python",
   "name": "python3"
  },
  "language_info": {
   "codemirror_mode": {
    "name": "ipython",
    "version": 3
   },
   "file_extension": ".py",
   "mimetype": "text/x-python",
   "name": "python",
   "nbconvert_exporter": "python",
   "pygments_lexer": "ipython3",
   "version": "3.8.15"
  }
 },
 "nbformat": 4,
 "nbformat_minor": 5
}
